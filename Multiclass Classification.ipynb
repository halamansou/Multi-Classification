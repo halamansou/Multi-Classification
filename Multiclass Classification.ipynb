{
 "cells": [
  {
   "cell_type": "code",
   "execution_count": 1,
   "id": "ace14f1b",
   "metadata": {},
   "outputs": [],
   "source": [
    "import os\n",
    "import skimage\n",
    "import numpy as np \n",
    "import matplotlib.pyplot as plt\n",
    "import pandas as pd \n",
    "import glob\n",
    "from skimage import io\n",
    "import seaborn as sns \n",
    "from skimage import color\n",
    "\n",
    "from skimage import data, color\n",
    "from skimage.transform import rescale, resize, downscale_local_mean \n",
    "\n",
    "from sklearn.model_selection import train_test_split\n",
    "from sklearn.linear_model import LogisticRegression\n",
    "from sklearn.metrics import accuracy_score\n",
    "from sklearn.metrics import classification_report\n",
    "\n",
    "from sklearn.metrics import confusion_matrix\n",
    "\n",
    "from sklearn.metrics import roc_curve  \n",
    "from sklearn import metrics\n",
    "from sklearn.metrics import plot_confusion_matrix\n"
   ]
  },
  {
   "cell_type": "code",
   "execution_count": 2,
   "id": "1ae63215",
   "metadata": {},
   "outputs": [],
   "source": [
    "path_o = \"E:\\semester7\\English\\Img\\BadImag\\Bmp\\Sample051\\*\"\n",
    "\n",
    "path_q = \"F:\\Dataset\\EnglishImg\\English\\Img\\GoodImg\\Bmp\\Sample053\\*\"\n",
    "\n",
    "path_g = \"F:\\Dataset\\EnglishImg\\English\\Img\\GoodImg\\Bmp\\Sample017\\*\"\n",
    "\n",
    "path_8 = \"F:\\Dataset\\EnglishImg\\English\\Img\\GoodImg\\Bmp\\Sample009\\*\""
   ]
  },
  {
   "cell_type": "code",
   "execution_count": 3,
   "id": "1b80b43f",
   "metadata": {},
   "outputs": [],
   "source": [
    "path_o_paths =  glob.glob(  path_o )\n",
    "\n",
    "path_q_paths =  glob.glob(  path_q )\n",
    "\n",
    "path_g_paths =  glob.glob(  path_g )\n",
    "\n",
    "path_8_paths =  glob.glob(  path_8 )"
   ]
  },
  {
   "cell_type": "code",
   "execution_count": 2,
   "id": "e0b823e6",
   "metadata": {},
   "outputs": [
    {
     "ename": "NameError",
     "evalue": "name 'path_o_paths' is not defined",
     "output_type": "error",
     "traceback": [
      "\u001b[1;31m---------------------------------------------------------------------------\u001b[0m",
      "\u001b[1;31mNameError\u001b[0m                                 Traceback (most recent call last)",
      "Input \u001b[1;32mIn [2]\u001b[0m, in \u001b[0;36m<cell line: 1>\u001b[1;34m()\u001b[0m\n\u001b[1;32m----> 1\u001b[0m \u001b[38;5;28mprint\u001b[39m( \u001b[38;5;28mlen\u001b[39m(\u001b[43mpath_o_paths\u001b[49m  ))\n\u001b[0;32m      3\u001b[0m \u001b[38;5;28mprint\u001b[39m( \u001b[38;5;28mlen\u001b[39m(path_q_paths  ))\n\u001b[0;32m      5\u001b[0m \u001b[38;5;28mprint\u001b[39m( \u001b[38;5;28mlen\u001b[39m(path_g_paths  ))\n",
      "\u001b[1;31mNameError\u001b[0m: name 'path_o_paths' is not defined"
     ]
    }
   ],
   "source": [
    "print( len(path_o_paths  ))\n",
    "\n",
    "print( len(path_q_paths  ))\n",
    "\n",
    "print( len(path_g_paths  ))\n",
    "\n",
    "print( len(path_8_paths  ))\n"
   ]
  },
  {
   "cell_type": "code",
   "execution_count": 8,
   "id": "7e2eefc3",
   "metadata": {},
   "outputs": [],
   "source": [
    "\n",
    "imgs_list = [ ] \n",
    "label_list = [ ] \n",
    "\n",
    "\n",
    "for path in path_o_paths:\n",
    "    \n",
    "    img = io.imread( path )\n",
    "           \n",
    "    img_resized =  resize( img , (30 , 30 , 3 ) )  \n",
    "    \n",
    "    img_gray =   color.rgb2gray( img_resized  )   \n",
    "    \n",
    "    img_reshaped =  img_gray.reshape( ( 900 ) )\n",
    "    \n",
    "    imgs_list.append(  img_reshaped )\n",
    "    \n",
    "    label_list.append( 0 )\n",
    "    \n",
    "   "
   ]
  },
  {
   "cell_type": "code",
   "execution_count": 9,
   "id": "1742cf36",
   "metadata": {},
   "outputs": [],
   "source": [
    " for path in path_q_paths:\n",
    "    \n",
    "    img = io.imread( path )\n",
    "           \n",
    "    img_resized =  resize( img , (30 , 30 , 3 ) )  \n",
    "    \n",
    "    img_gray =   color.rgb2gray( img_resized  )   \n",
    "    \n",
    "    img_reshaped =  img_gray.reshape( ( 900 ) )\n",
    "    \n",
    "    imgs_list.append(  img_reshaped )\n",
    "    \n",
    "    label_list.append( 1 )"
   ]
  },
  {
   "cell_type": "code",
   "execution_count": 11,
   "id": "1b7ad740",
   "metadata": {},
   "outputs": [],
   "source": [
    "    for path in path_g_paths:\n",
    "    \n",
    "        img = io.imread( path )\n",
    "\n",
    "        img_resized =  resize( img , (30 , 30 , 3 ) )  \n",
    "\n",
    "        img_gray =   color.rgb2gray( img_resized  )  \n",
    "\n",
    "        img_reshaped =  img_gray.reshape( ( 900 ) )\n",
    "\n",
    "        imgs_list.append(  img_reshaped )\n",
    "\n",
    "        label_list.append( 2 )\n",
    "    "
   ]
  },
  {
   "cell_type": "code",
   "execution_count": 12,
   "id": "b49e8d52",
   "metadata": {},
   "outputs": [],
   "source": [
    "   for path in path_8_paths:\n",
    "\n",
    "        img = io.imread( path )\n",
    "\n",
    "        img_resized =  resize( img , (30 , 30 , 3 ) )  \n",
    "\n",
    "        img_gray =   color.rgb2gray( img_resized  )  \n",
    "\n",
    "        img_reshaped =  img_gray.reshape( ( 900 ) )\n",
    "\n",
    "        imgs_list.append(  img_reshaped )\n",
    "\n",
    "        label_list.append( 3 )"
   ]
  },
  {
   "cell_type": "code",
   "execution_count": 13,
   "id": "59d730c4",
   "metadata": {},
   "outputs": [
    {
     "name": "stdout",
     "output_type": "stream",
     "text": [
      "110\n",
      "110\n"
     ]
    }
   ],
   "source": [
    "print( len(imgs_list  ))\n",
    "\n",
    "print( len(label_list  ))"
   ]
  },
  {
   "cell_type": "code",
   "execution_count": 14,
   "id": "db5b6a8a",
   "metadata": {},
   "outputs": [],
   "source": [
    "X_train, X_test, y_train, y_test = train_test_split(  imgs_list , label_list, test_size=0.2, stratify=label_list , random_state=42)"
   ]
  },
  {
   "cell_type": "code",
   "execution_count": 15,
   "id": "b3701aaa",
   "metadata": {},
   "outputs": [],
   "source": [
    "from sklearn.tree import DecisionTreeClassifier"
   ]
  },
  {
   "cell_type": "code",
   "execution_count": 16,
   "id": "f0533792",
   "metadata": {},
   "outputs": [],
   "source": [
    " DecisionTreeClassifier =  DecisionTreeClassifier ( )\n"
   ]
  },
  {
   "cell_type": "code",
   "execution_count": 17,
   "id": "d6f30d0c",
   "metadata": {},
   "outputs": [],
   "source": [
    " DecisionTreeClassifier =  DecisionTreeClassifier.fit(  X_train ,  y_train  )"
   ]
  },
  {
   "cell_type": "code",
   "execution_count": 18,
   "id": "c8de3fd2",
   "metadata": {},
   "outputs": [],
   "source": [
    "\n",
    "predict_y_test =  DecisionTreeClassifier.predict( X_test  )\n",
    "\n",
    "predict_y_train =  DecisionTreeClassifier.predict( X_train  )"
   ]
  },
  {
   "cell_type": "code",
   "execution_count": 19,
   "id": "b7a0c73f",
   "metadata": {},
   "outputs": [
    {
     "name": "stdout",
     "output_type": "stream",
     "text": [
      "1.0\n",
      "1.0\n"
     ]
    }
   ],
   "source": [
    "print( accuracy_score(   y_test ,  predict_y_test  )  )\n",
    "\n",
    "print( accuracy_score(   y_train ,  predict_y_train  )  )"
   ]
  },
  {
   "cell_type": "code",
   "execution_count": 20,
   "id": "641b5933",
   "metadata": {},
   "outputs": [],
   "source": [
    "def drawing_conf_matrix(  y_actual , y_predict ):\n",
    "    \n",
    "    print( \"Classification Report\" )\n",
    "    print ( classification_report(  y_actual , y_predict  )  )  \n",
    "    conf_mat = confusion_matrix( y_actual,   y_predict )   \n",
    "    print( \"Confusion Matrix\")\n",
    "    print( conf_mat )\n",
    "    sns.heatmap( conf_mat , annot= True  , fmt = \"\" )\n",
    "    plt.ylabel('True label')\n",
    "    plt.xlabel('Predicted label')"
   ]
  },
  {
   "cell_type": "code",
   "execution_count": 35,
   "id": "df2c2164",
   "metadata": {},
   "outputs": [
    {
     "name": "stdout",
     "output_type": "stream",
     "text": [
      "Classification Report\n",
      "              precision    recall  f1-score   support\n",
      "\n",
      "           0       1.00      1.00      1.00        22\n",
      "\n",
      "    accuracy                           1.00        22\n",
      "   macro avg       1.00      1.00      1.00        22\n",
      "weighted avg       1.00      1.00      1.00        22\n",
      "\n",
      "Confusion Matrix\n",
      "[[22]]\n"
     ]
    },
    {
     "data": {
      "image/png": "[encoded data removed]",
      "text/plain": [
       "<Figure size 432x288 with 2 Axes>"
      ]
     },
     "metadata": {
      "needs_background": "light"
     },
     "output_type": "display_data"
    }
   ],
   "source": [
    "drawing_conf_matrix( y_test ,  predict_y_test )"
   ]
  },
  {
   "cell_type": "code",
   "execution_count": 21,
   "id": "2fa98b9d",
   "metadata": {},
   "outputs": [
    {
     "name": "stdout",
     "output_type": "stream",
     "text": [
      "Classification Report\n",
      "              precision    recall  f1-score   support\n",
      "\n",
      "           0       1.00      1.00      1.00        88\n",
      "\n",
      "    accuracy                           1.00        88\n",
      "   macro avg       1.00      1.00      1.00        88\n",
      "weighted avg       1.00      1.00      1.00        88\n",
      "\n",
      "Confusion Matrix\n",
      "[[88]]\n"
     ]
    },
    {
     "data": {
      "image/png": "[encoded data removed]",
      "text/plain": [
       "<Figure size 432x288 with 2 Axes>"
      ]
     },
     "metadata": {
      "needs_background": "light"
     },
     "output_type": "display_data"
    }
   ],
   "source": [
    "drawing_conf_matrix(  y_train ,  predict_y_train )"
   ]
  },
  {
   "cell_type": "code",
   "execution_count": 32,
   "id": "b7d4e2d2",
   "metadata": {},
   "outputs": [],
   "source": [
    "from sklearn.metrics import confusion_matrix"
   ]
  },
  {
   "cell_type": "code",
   "execution_count": 33,
   "id": "cc9ec251",
   "metadata": {},
   "outputs": [],
   "source": [
    "conf_matrix_test = confusion_matrix(  y_test ,  predict_y_test  )"
   ]
  },
  {
   "cell_type": "code",
   "execution_count": 34,
   "id": "c298fc47",
   "metadata": {},
   "outputs": [],
   "source": [
    "Accu = np.sum( np.diag( conf_matrix_test) ) / np.sum( conf_matrix_test )"
   ]
  },
  {
   "cell_type": "code",
   "execution_count": 35,
   "id": "57a6db92",
   "metadata": {},
   "outputs": [
    {
     "name": "stdout",
     "output_type": "stream",
     "text": [
      "1.0\n"
     ]
    }
   ],
   "source": [
    "print (Accu)"
   ]
  },
  {
   "cell_type": "code",
   "execution_count": 36,
   "id": "8464b862",
   "metadata": {},
   "outputs": [
    {
     "name": "stdout",
     "output_type": "stream",
     "text": [
      "[[22]]\n"
     ]
    }
   ],
   "source": [
    "print(conf_matrix_test)"
   ]
  },
  {
   "cell_type": "code",
   "execution_count": 37,
   "id": "18f27a81",
   "metadata": {},
   "outputs": [
    {
     "name": "stdout",
     "output_type": "stream",
     "text": [
      "[[22]]\n"
     ]
    }
   ],
   "source": [
    "print(conf_matrix_test)"
   ]
  },
  {
   "cell_type": "code",
   "execution_count": 38,
   "id": "7964b9e8",
   "metadata": {},
   "outputs": [
    {
     "data": {
      "text/plain": [
       "0.8006756756756757"
      ]
     },
     "execution_count": 38,
     "metadata": {},
     "output_type": "execute_result"
    }
   ],
   "source": [
    "AC_TEST=(TP+TP1+TP2+TP3+TN1+TN2+TN+TN3)/(TP+TP1+TP2+TP3+TN1+TN2+TN+TN3+FP+FP1+FP2+FP3+FN+FN1+FN2+FN3)\n",
    "AC_TEST"
   ]
  },
  {
   "cell_type": "code",
   "execution_count": 41,
   "id": "9adeb6bd",
   "metadata": {},
   "outputs": [],
   "source": [
    "#f1score=2*(((precision_0*recall_0)+(precision_1*recall_1)+(precision_2*recall_2)+(precision_3*recall_3))/(precision_0+recall_0)+(precision_1+recall_1)+(precision_2+recall_2)+(precision_3+recall_3))\n",
    "#f1score"
   ]
  },
  {
   "cell_type": "code",
   "execution_count": 42,
   "id": "c2e55495",
   "metadata": {},
   "outputs": [],
   "source": [
    "conf_matrix_train = confusion_matrix(  y_train ,  predict_y_train  )"
   ]
  },
  {
   "cell_type": "code",
   "execution_count": 43,
   "id": "825b0414",
   "metadata": {},
   "outputs": [
    {
     "name": "stdout",
     "output_type": "stream",
     "text": [
      "[[88]]\n"
     ]
    }
   ],
   "source": [
    "print(conf_matrix_train)"
   ]
  },
  {
   "cell_type": "code",
   "execution_count": 44,
   "id": "b68bef7a",
   "metadata": {},
   "outputs": [
    {
     "data": {
      "text/plain": [
       "0.8006756756756757"
      ]
     },
     "execution_count": 44,
     "metadata": {},
     "output_type": "execute_result"
    }
   ],
   "source": [
    "AC_train=(TP+TP1+TP2+TP3+TN1+TN2+TN+TN3)/(TP+TP1+TP2+TP3+TN1+TN2+TN+TN3+FP+FP1+FP2+FP3+FN+FN1+FN2+FN3)\n",
    "AC_train"
   ]
  },
  {
   "cell_type": "code",
   "execution_count": 45,
   "id": "4e4b9b24",
   "metadata": {},
   "outputs": [
    {
     "name": "stdout",
     "output_type": "stream",
     "text": [
      "0.6333333333333333\n",
      "0.8260869565217391\n",
      "0.9491525423728814\n",
      "0.8615384615384616\n",
      "0.4\n",
      "0.3333333333333333\n",
      "0.6607142857142857\n",
      "0.7872340425531915\n"
     ]
    }
   ],
   "source": [
    "precision_0=TP/(TP+FN)\n",
    "recall_0=TP/(TP+FP)\n",
    "precision_1=TN1/(TP1+TN1)\n",
    "recall_1=TN1/(TN1+FN1)\n",
    "precision_2=TP2/(TP2+FN2)\n",
    "recall_2=TP2/(TP2+FP2)\n",
    "precision_3=TN3/(TP3+TN3)\n",
    "recall_3=TN3/(TN3+FN3)\n",
    "print(precision_0)\n",
    "print(recall_0)\n",
    "print(precision_1)\n",
    "print(recall_1)\n",
    "print(precision_2)\n",
    "print(recall_2)\n",
    "print(precision_3)\n",
    "print(recall_3)"
   ]
  },
  {
   "cell_type": "code",
   "execution_count": 46,
   "id": "a5d81e73",
   "metadata": {},
   "outputs": [
    {
     "data": {
      "text/plain": [
       "10.717071562351736"
      ]
     },
     "execution_count": 46,
     "metadata": {},
     "output_type": "execute_result"
    }
   ],
   "source": [
    "f1score=2*(((precision_0*recall_0)+(precision_1*recall_1)+(precision_2*recall_2)+(precision_3*recall_3))/(precision_0+recall_0)+(precision_1+recall_1)+(precision_2+recall_2)+(precision_3+recall_3))\n",
    "f1score"
   ]
  },
  {
   "cell_type": "code",
   "execution_count": 1,
   "id": "c3683bf4",
   "metadata": {},
   "outputs": [
    {
     "ename": "NameError",
     "evalue": "name 'roc_curve' is not defined",
     "output_type": "error",
     "traceback": [
      "\u001b[1;31m---------------------------------------------------------------------------\u001b[0m",
      "\u001b[1;31mNameError\u001b[0m                                 Traceback (most recent call last)",
      "Input \u001b[1;32mIn [1]\u001b[0m, in \u001b[0;36m<cell line: 8>\u001b[1;34m()\u001b[0m\n\u001b[0;32m      6\u001b[0m n_class \u001b[38;5;241m=\u001b[39m \u001b[38;5;241m4\u001b[39m\n\u001b[0;32m      8\u001b[0m \u001b[38;5;28;01mfor\u001b[39;00m i \u001b[38;5;129;01min\u001b[39;00m \u001b[38;5;28mrange\u001b[39m(n_class):    \n\u001b[1;32m----> 9\u001b[0m     fpr[i], tpr[i], thresh[i],gggg[i] \u001b[38;5;241m=\u001b[39m\u001b[43mroc_curve\u001b[49m(y_test, predict_y_test, pos_label\u001b[38;5;241m=\u001b[39mi)\n\u001b[0;32m     11\u001b[0m \u001b[38;5;66;03m# plotting    \u001b[39;00m\n\u001b[0;32m     12\u001b[0m plt\u001b[38;5;241m.\u001b[39mplot(fpr[\u001b[38;5;241m0\u001b[39m], tpr[\u001b[38;5;241m0\u001b[39m])\n",
      "\u001b[1;31mNameError\u001b[0m: name 'roc_curve' is not defined"
     ]
    }
   ],
   "source": [
    "fpr = {}\n",
    "tpr = {}\n",
    "thresh ={}\n",
    "gggg={}\n",
    "\n",
    "n_class = 4\n",
    "\n",
    "for i in range(n_class):    \n",
    "    fpr[i], tpr[i], thresh[i],gggg[i] =roc_curve(y_test, predict_y_test, pos_label=i)\n",
    "    \n",
    "# plotting    \n",
    "plt.plot(fpr[0], tpr[0])\n",
    "plt.plot(fpr[1], tpr[1])\n",
    "plt.plot(fpr[2], tpr[2])\n",
    "plt.plot(fpr[3], tpr[3])\n",
    "plt.title('Multiclass ROC curve')\n",
    "plt.xlabel('False Positive Rate')\n",
    "plt.ylabel('True Positive rate')\n",
    "plt.legend(loc='best')\n",
    "plt.savefig('Multiclass ROC',dpi=400);   "
   ]
  },
  {
   "cell_type": "code",
   "execution_count": null,
   "id": "34f8ee03",
   "metadata": {},
   "outputs": [],
   "source": []
  }
 ],
 "metadata": {
  "kernelspec": {
   "display_name": "Python 3 (ipykernel)",
   "language": "python",
   "name": "python3"
  },
  "language_info": {
   "codemirror_mode": {
    "name": "ipython",
    "version": 3
   },
   "file_extension": ".py",
   "mimetype": "text/x-python",
   "name": "python",
   "nbconvert_exporter": "python",
   "pygments_lexer": "ipython3",
   "version": "3.9.12"
  }
 },
 "nbformat": 4,
 "nbformat_minor": 5
}
